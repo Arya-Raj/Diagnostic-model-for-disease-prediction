{
  "nbformat": 4,
  "nbformat_minor": 0,
  "metadata": {
    "colab": {
      "name": "Mini project.ipynb",
      "provenance": [],
      "collapsed_sections": [],
      "mount_file_id": "1ooCf_Q10V6wYVMiIIkfE-I-VsixmqF1L",
      "authorship_tag": "ABX9TyPyq7tKRSEgMdAwe+9lvLP6",
      "include_colab_link": true
    },
    "kernelspec": {
      "name": "python3",
      "display_name": "Python 3"
    }
  },
  "cells": [
    {
      "cell_type": "markdown",
      "metadata": {
        "id": "view-in-github",
        "colab_type": "text"
      },
      "source": [
        "<a href=\"https://colab.research.google.com/github/Arya-Raj/Smartknowers-/blob/master/Mini_project.ipynb\" target=\"_parent\"><img src=\"https://colab.research.google.com/assets/colab-badge.svg\" alt=\"Open In Colab\"/></a>"
      ]
    },
    {
      "cell_type": "code",
      "metadata": {
        "id": "GwD3Qd6l89ns",
        "colab_type": "code",
        "colab": {}
      },
      "source": [
        "                                                                                        #MINI PROJECT\n",
        "#To read the CSV file\n",
        "import pandas as pd\n",
        "data=pd.read_csv(\"/content/drive/My Drive/Disease prediction.csv\")"
      ],
      "execution_count": 225,
      "outputs": []
    },
    {
      "cell_type": "code",
      "metadata": {
        "id": "216lDU7CDU9e",
        "colab_type": "code",
        "colab": {
          "base_uri": "https://localhost:8080/",
          "height": 299
        },
        "outputId": "7025ebe5-2f2b-44ad-ffe4-e10f3b964048"
      },
      "source": [
        "#To convert the data set into a dataframe\n",
        "data_frame=pd.DataFrame(data)\n",
        "data_frame.head()"
      ],
      "execution_count": 226,
      "outputs": [
        {
          "output_type": "execute_result",
          "data": {
            "text/html": [
              "<div>\n",
              "<style scoped>\n",
              "    .dataframe tbody tr th:only-of-type {\n",
              "        vertical-align: middle;\n",
              "    }\n",
              "\n",
              "    .dataframe tbody tr th {\n",
              "        vertical-align: top;\n",
              "    }\n",
              "\n",
              "    .dataframe thead th {\n",
              "        text-align: right;\n",
              "    }\n",
              "</style>\n",
              "<table border=\"1\" class=\"dataframe\">\n",
              "  <thead>\n",
              "    <tr style=\"text-align: right;\">\n",
              "      <th></th>\n",
              "      <th>Disease</th>\n",
              "      <th>Symptom_1</th>\n",
              "      <th>Symptom_2</th>\n",
              "      <th>Symptom_3</th>\n",
              "      <th>Symptom_4</th>\n",
              "      <th>Symptom_5</th>\n",
              "      <th>Symptom_6</th>\n",
              "      <th>Symptom_7</th>\n",
              "      <th>Symptom_8</th>\n",
              "      <th>Symptom_9</th>\n",
              "      <th>Symptom_10</th>\n",
              "      <th>Symptom_11</th>\n",
              "      <th>Symptom_12</th>\n",
              "      <th>Symptom_13</th>\n",
              "      <th>Symptom_14</th>\n",
              "      <th>Symptom_15</th>\n",
              "      <th>Symptom_16</th>\n",
              "      <th>Symptom_17</th>\n",
              "    </tr>\n",
              "  </thead>\n",
              "  <tbody>\n",
              "    <tr>\n",
              "      <th>0</th>\n",
              "      <td>Fungal infection</td>\n",
              "      <td>itching</td>\n",
              "      <td>skin_rash</td>\n",
              "      <td>nodal_skin_eruptions</td>\n",
              "      <td>dischromic _patches</td>\n",
              "      <td>NaN</td>\n",
              "      <td>NaN</td>\n",
              "      <td>NaN</td>\n",
              "      <td>NaN</td>\n",
              "      <td>NaN</td>\n",
              "      <td>NaN</td>\n",
              "      <td>NaN</td>\n",
              "      <td>NaN</td>\n",
              "      <td>NaN</td>\n",
              "      <td>NaN</td>\n",
              "      <td>NaN</td>\n",
              "      <td>NaN</td>\n",
              "      <td>NaN</td>\n",
              "    </tr>\n",
              "    <tr>\n",
              "      <th>1</th>\n",
              "      <td>Fungal infection</td>\n",
              "      <td>skin_rash</td>\n",
              "      <td>nodal_skin_eruptions</td>\n",
              "      <td>dischromic _patches</td>\n",
              "      <td>NaN</td>\n",
              "      <td>NaN</td>\n",
              "      <td>NaN</td>\n",
              "      <td>NaN</td>\n",
              "      <td>NaN</td>\n",
              "      <td>NaN</td>\n",
              "      <td>NaN</td>\n",
              "      <td>NaN</td>\n",
              "      <td>NaN</td>\n",
              "      <td>NaN</td>\n",
              "      <td>NaN</td>\n",
              "      <td>NaN</td>\n",
              "      <td>NaN</td>\n",
              "      <td>NaN</td>\n",
              "    </tr>\n",
              "    <tr>\n",
              "      <th>2</th>\n",
              "      <td>Fungal infection</td>\n",
              "      <td>itching</td>\n",
              "      <td>nodal_skin_eruptions</td>\n",
              "      <td>dischromic _patches</td>\n",
              "      <td>NaN</td>\n",
              "      <td>NaN</td>\n",
              "      <td>NaN</td>\n",
              "      <td>NaN</td>\n",
              "      <td>NaN</td>\n",
              "      <td>NaN</td>\n",
              "      <td>NaN</td>\n",
              "      <td>NaN</td>\n",
              "      <td>NaN</td>\n",
              "      <td>NaN</td>\n",
              "      <td>NaN</td>\n",
              "      <td>NaN</td>\n",
              "      <td>NaN</td>\n",
              "      <td>NaN</td>\n",
              "    </tr>\n",
              "    <tr>\n",
              "      <th>3</th>\n",
              "      <td>Fungal infection</td>\n",
              "      <td>itching</td>\n",
              "      <td>skin_rash</td>\n",
              "      <td>dischromic _patches</td>\n",
              "      <td>NaN</td>\n",
              "      <td>NaN</td>\n",
              "      <td>NaN</td>\n",
              "      <td>NaN</td>\n",
              "      <td>NaN</td>\n",
              "      <td>NaN</td>\n",
              "      <td>NaN</td>\n",
              "      <td>NaN</td>\n",
              "      <td>NaN</td>\n",
              "      <td>NaN</td>\n",
              "      <td>NaN</td>\n",
              "      <td>NaN</td>\n",
              "      <td>NaN</td>\n",
              "      <td>NaN</td>\n",
              "    </tr>\n",
              "    <tr>\n",
              "      <th>4</th>\n",
              "      <td>Fungal infection</td>\n",
              "      <td>itching</td>\n",
              "      <td>skin_rash</td>\n",
              "      <td>nodal_skin_eruptions</td>\n",
              "      <td>NaN</td>\n",
              "      <td>NaN</td>\n",
              "      <td>NaN</td>\n",
              "      <td>NaN</td>\n",
              "      <td>NaN</td>\n",
              "      <td>NaN</td>\n",
              "      <td>NaN</td>\n",
              "      <td>NaN</td>\n",
              "      <td>NaN</td>\n",
              "      <td>NaN</td>\n",
              "      <td>NaN</td>\n",
              "      <td>NaN</td>\n",
              "      <td>NaN</td>\n",
              "      <td>NaN</td>\n",
              "    </tr>\n",
              "  </tbody>\n",
              "</table>\n",
              "</div>"
            ],
            "text/plain": [
              "            Disease   Symptom_1  ... Symptom_16 Symptom_17\n",
              "0  Fungal infection     itching  ...        NaN        NaN\n",
              "1  Fungal infection   skin_rash  ...        NaN        NaN\n",
              "2  Fungal infection     itching  ...        NaN        NaN\n",
              "3  Fungal infection     itching  ...        NaN        NaN\n",
              "4  Fungal infection     itching  ...        NaN        NaN\n",
              "\n",
              "[5 rows x 18 columns]"
            ]
          },
          "metadata": {
            "tags": []
          },
          "execution_count": 226
        }
      ]
    },
    {
      "cell_type": "code",
      "metadata": {
        "id": "KQ3GhrhgFBv0",
        "colab_type": "code",
        "colab": {
          "base_uri": "https://localhost:8080/",
          "height": 168
        },
        "outputId": "b4389e76-93b0-4bb9-9eec-ed1c865a791c"
      },
      "source": [
        "#To know the unique values in the first column\n",
        "data_frame[\"Disease\"].unique()\n",
        "print(data_frame[\"Symptom_1\"].unique())\n"
      ],
      "execution_count": 227,
      "outputs": [
        {
          "output_type": "stream",
          "text": [
            "['itching' ' skin_rash' ' continuous_sneezing' ' shivering'\n",
            " ' stomach_pain' ' acidity' ' vomiting' ' indigestion' ' muscle_wasting'\n",
            " ' patches_in_throat' ' fatigue' ' weight_loss' ' sunken_eyes' ' cough'\n",
            " ' headache' ' chest_pain' ' back_pain' ' weakness_in_limbs' ' chills'\n",
            " ' joint_pain' ' yellowish_skin' ' constipation'\n",
            " ' pain_during_bowel_movements' ' breathlessness' ' cramps' ' weight_gain'\n",
            " ' mood_swings' ' neck_pain' ' muscle_weakness' ' stiff_neck'\n",
            " ' pus_filled_pimples' ' burning_micturition' ' bladder_discomfort'\n",
            " ' high_fever']\n"
          ],
          "name": "stdout"
        }
      ]
    },
    {
      "cell_type": "code",
      "metadata": {
        "id": "hyK7nJT1FdEW",
        "colab_type": "code",
        "colab": {
          "base_uri": "https://localhost:8080/",
          "height": 926
        },
        "outputId": "0d0d69da-3de0-4819-fdc8-f249a3ea7518"
      },
      "source": [
        "#To take total count of each symptom and then visualising it\n",
        "import matplotlib.pyplot as plt\n",
        "import numpy as np\n",
        "t=[]\n",
        "s=[]\n",
        "q=[]\n",
        "d1=[]\n",
        "d2=[]\n",
        "l=0\n",
        "for i in data_frame[\"Symptom_1\"].unique():\n",
        "  d1.append(i)\n",
        "  d2.append(l)\n",
        "  p=data_frame.Symptom_1.str.count(i).sum()\n",
        "  t.append(p)\n",
        "  r=data_frame.Symptom_2.str.count(i).sum()\n",
        "  s.append(r)\n",
        "  u=data_frame.Symptom_3.str.count(i).sum()\n",
        "  q.append(u)\n",
        "  l+=1\n",
        "f=[]\n",
        "for i in range(0,len(t)):\n",
        " f.append(t[i]+s[i]+q[i])\n",
        "print(f)\n",
        "print(d1)\n",
        "n=pd.DataFrame({'Name':d1,'count':f})\n",
        "print(\"count of each symptom \")\n",
        "print(n)\n",
        "x= np.arange(len(d1))\n",
        "fig, ax = plt.subplots()\n",
        "\n",
        "rects1 = ax.bar(x - width/2,f, width)\n",
        "def autolabel(rects):\n",
        "    \"\"\"Attach a text label above each bar in *rects*, displaying its height.\"\"\"\n",
        "    for rect in rects:\n",
        "        height = rect.get_height()\n",
        "        ax.annotate('{}'.format(height),\n",
        "                    xy=(rect.get_x() + rect.get_width() / 2, height),\n",
        "                    xytext=(0, 3),  # 3 points vertical offset\n",
        "                    textcoords=\"offset points\",\n",
        "                    ha='center', va='bottom')\n",
        "autolabel(rects1)\n"
      ],
      "execution_count": 228,
      "outputs": [
        {
          "output_type": "stream",
          "text": [
            "[678, 786, 222, 108, 222, 222, 1740, 222, 108, 108, 1818, 264, 108, 240, 444, 144, 108, 108, 798, 684, 492, 114, 114, 138, 114, 114, 138, 228, 114, 114, 108, 138, 114, 486]\n",
            "['itching', ' skin_rash', ' continuous_sneezing', ' shivering', ' stomach_pain', ' acidity', ' vomiting', ' indigestion', ' muscle_wasting', ' patches_in_throat', ' fatigue', ' weight_loss', ' sunken_eyes', ' cough', ' headache', ' chest_pain', ' back_pain', ' weakness_in_limbs', ' chills', ' joint_pain', ' yellowish_skin', ' constipation', ' pain_during_bowel_movements', ' breathlessness', ' cramps', ' weight_gain', ' mood_swings', ' neck_pain', ' muscle_weakness', ' stiff_neck', ' pus_filled_pimples', ' burning_micturition', ' bladder_discomfort', ' high_fever']\n",
            "count of each symptom \n",
            "                            Name  count\n",
            "0                        itching    678\n",
            "1                      skin_rash    786\n",
            "2            continuous_sneezing    222\n",
            "3                      shivering    108\n",
            "4                   stomach_pain    222\n",
            "5                        acidity    222\n",
            "6                       vomiting   1740\n",
            "7                    indigestion    222\n",
            "8                 muscle_wasting    108\n",
            "9              patches_in_throat    108\n",
            "10                       fatigue   1818\n",
            "11                   weight_loss    264\n",
            "12                   sunken_eyes    108\n",
            "13                         cough    240\n",
            "14                      headache    444\n",
            "15                    chest_pain    144\n",
            "16                     back_pain    108\n",
            "17             weakness_in_limbs    108\n",
            "18                        chills    798\n",
            "19                    joint_pain    684\n",
            "20                yellowish_skin    492\n",
            "21                  constipation    114\n",
            "22   pain_during_bowel_movements    114\n",
            "23                breathlessness    138\n",
            "24                        cramps    114\n",
            "25                   weight_gain    114\n",
            "26                   mood_swings    138\n",
            "27                     neck_pain    228\n",
            "28               muscle_weakness    114\n",
            "29                    stiff_neck    114\n",
            "30            pus_filled_pimples    108\n",
            "31           burning_micturition    138\n",
            "32            bladder_discomfort    114\n",
            "33                    high_fever    486\n"
          ],
          "name": "stdout"
        },
        {
          "output_type": "display_data",
          "data": {
            "image/png": "[encoded data removed]",
            "text/plain": [
              "<Figure size 432x288 with 1 Axes>"
            ]
          },
          "metadata": {
            "tags": [],
            "needs_background": "light"
          }
        }
      ]
    },
    {
      "cell_type": "code",
      "metadata": {
        "id": "NG2z8_UPObG7",
        "colab_type": "code",
        "colab": {}
      },
      "source": [
        "#To convert the string values to float\n",
        "#Ref:https://techwithtim.net/tutorials/machine-learning-python/k-nearest-neighbors-1/#:~:text=In%20order%20to%20train%20the,of%20our%20data%20into%20integers.\n",
        "from sklearn import preprocessing\n",
        "le=preprocessing.LabelEncoder()\n",
        "data_framec=data_frame.copy()"
      ],
      "execution_count": 229,
      "outputs": []
    },
    {
      "cell_type": "code",
      "metadata": {
        "id": "kQqP2EA5PK-n",
        "colab_type": "code",
        "colab": {}
      },
      "source": [
        "data_framec['Symptom_1']=le.fit_transform(data_frame['Symptom_1'])\n",
        "data_framec['Symptom_2']=le.fit_transform(data_frame['Symptom_2'])\n",
        "data_framec['Symptom_3']=le.fit_transform(data_frame['Symptom_3'])"
      ],
      "execution_count": 230,
      "outputs": []
    },
    {
      "cell_type": "code",
      "metadata": {
        "id": "vp2VnNDuDgjd",
        "colab_type": "code",
        "colab": {}
      },
      "source": [
        "#inputs\n",
        "x=data_framec.iloc[:,1:4]\n",
        "y=data_framec.iloc[:,0]\n"
      ],
      "execution_count": 231,
      "outputs": []
    },
    {
      "cell_type": "code",
      "metadata": {
        "id": "UXzKMNq_GF0V",
        "colab_type": "code",
        "colab": {}
      },
      "source": [
        "#provide testing and training data\n",
        "from sklearn.model_selection import train_test_split\n",
        "x_tr,x_te,y_tr,y_te=train_test_split(x,y,random_state=10)\n"
      ],
      "execution_count": 232,
      "outputs": []
    },
    {
      "cell_type": "code",
      "metadata": {
        "id": "yidIu19LHEz4",
        "colab_type": "code",
        "colab": {}
      },
      "source": [
        "from sklearn.neighbors import KNeighborsClassifier"
      ],
      "execution_count": 233,
      "outputs": []
    },
    {
      "cell_type": "code",
      "metadata": {
        "id": "qt3QC9YTNWRn",
        "colab_type": "code",
        "colab": {}
      },
      "source": [
        "classifier=KNeighborsClassifier(n_neighbors=1)"
      ],
      "execution_count": 234,
      "outputs": []
    },
    {
      "cell_type": "code",
      "metadata": {
        "id": "-vXFYj0yOAXA",
        "colab_type": "code",
        "colab": {}
      },
      "source": [
        "classifier.fit(x_tr,y_tr)\n",
        "y_pre=classifier.predict(x_te)"
      ],
      "execution_count": 235,
      "outputs": []
    },
    {
      "cell_type": "code",
      "metadata": {
        "id": "IDB49JRIRDSd",
        "colab_type": "code",
        "colab": {
          "base_uri": "https://localhost:8080/",
          "height": 50
        },
        "outputId": "d99092f5-6923-4351-ee08-784d8e928fb1"
      },
      "source": [
        "y_pre"
      ],
      "execution_count": 236,
      "outputs": [
        {
          "output_type": "execute_result",
          "data": {
            "text/plain": [
              "array(['Pneumonia', 'Chronic cholestasis', 'GERD', ...,\n",
              "       'Alcoholic hepatitis', 'hepatitis A', 'Common Cold'], dtype=object)"
            ]
          },
          "metadata": {
            "tags": []
          },
          "execution_count": 236
        }
      ]
    },
    {
      "cell_type": "code",
      "metadata": {
        "id": "TT_wLYLEPlZY",
        "colab_type": "code",
        "colab": {
          "base_uri": "https://localhost:8080/",
          "height": 218
        },
        "outputId": "62c51186-a121-4959-96f6-1f9777b4311f"
      },
      "source": [
        "y_te\n"
      ],
      "execution_count": 237,
      "outputs": [
        {
          "output_type": "execute_result",
          "data": {
            "text/plain": [
              "3881              Pneumonia\n",
              "856     Chronic cholestasis\n",
              "4307                   GERD\n",
              "435                    GERD\n",
              "1132         Hypothyroidism\n",
              "               ...         \n",
              "3873            hepatitis A\n",
              "563                 Malaria\n",
              "2894    Alcoholic hepatitis\n",
              "2766            hepatitis A\n",
              "3798            Common Cold\n",
              "Name: Disease, Length: 1230, dtype: object"
            ]
          },
          "metadata": {
            "tags": []
          },
          "execution_count": 237
        }
      ]
    },
    {
      "cell_type": "code",
      "metadata": {
        "id": "jRmv-7nT9Zd6",
        "colab_type": "code",
        "colab": {
          "base_uri": "https://localhost:8080/",
          "height": 34
        },
        "outputId": "28335db4-a6fc-4474-9966-886bcca8826d"
      },
      "source": [
        "#Accuracy Score\n",
        "from sklearn.metrics import accuracy_score,classification_report,confusion_matrix\n",
        "accuracy_score(y_te,y_pre)*100"
      ],
      "execution_count": 238,
      "outputs": [
        {
          "output_type": "execute_result",
          "data": {
            "text/plain": [
              "93.90243902439023"
            ]
          },
          "metadata": {
            "tags": []
          },
          "execution_count": 238
        }
      ]
    },
    {
      "cell_type": "code",
      "metadata": {
        "id": "FXzlhTwk9jsr",
        "colab_type": "code",
        "colab": {
          "base_uri": "https://localhost:8080/",
          "height": 134
        },
        "outputId": "adfa8ffb-9eb2-4607-aeab-3b9515bef453"
      },
      "source": [
        "#Confusion matrix\n",
        "confusion_matrix(y_te,y_pre)"
      ],
      "execution_count": 239,
      "outputs": [
        {
          "output_type": "execute_result",
          "data": {
            "text/plain": [
              "array([[28,  0,  0, ...,  0,  0,  0],\n",
              "       [ 0, 29,  0, ...,  0,  0,  0],\n",
              "       [ 0,  0, 30, ...,  0,  0,  0],\n",
              "       ...,\n",
              "       [ 0,  0,  0, ..., 29,  0,  0],\n",
              "       [ 0,  0,  0, ...,  0, 30,  0],\n",
              "       [ 0,  0,  0, ...,  0,  0, 34]])"
            ]
          },
          "metadata": {
            "tags": []
          },
          "execution_count": 239
        }
      ]
    },
    {
      "cell_type": "code",
      "metadata": {
        "id": "YDBsEvGVRacd",
        "colab_type": "code",
        "colab": {
          "base_uri": "https://localhost:8080/",
          "height": 823
        },
        "outputId": "973b96b2-16cc-4b47-b8c0-3fc7a570a35b"
      },
      "source": [
        "#precision,recall,f1-score,support\n",
        "print(classification_report(y_te,y_pre))"
      ],
      "execution_count": 240,
      "outputs": [
        {
          "output_type": "stream",
          "text": [
            "                                         precision    recall  f1-score   support\n",
            "\n",
            "(vertigo) Paroymsal  Positional Vertigo       1.00      1.00      1.00        28\n",
            "                                   AIDS       1.00      1.00      1.00        29\n",
            "                                   Acne       1.00      1.00      1.00        30\n",
            "                    Alcoholic hepatitis       1.00      1.00      1.00        23\n",
            "                                Allergy       1.00      1.00      1.00        27\n",
            "                              Arthritis       1.00      1.00      1.00        29\n",
            "                       Bronchial Asthma       0.94      1.00      0.97        30\n",
            "                   Cervical spondylosis       1.00      1.00      1.00        34\n",
            "                            Chicken pox       1.00      1.00      1.00        29\n",
            "                    Chronic cholestasis       1.00      1.00      1.00        31\n",
            "                            Common Cold       1.00      0.88      0.94        25\n",
            "                                 Dengue       1.00      1.00      1.00        26\n",
            "                              Diabetes        0.97      1.00      0.98        29\n",
            "           Dimorphic hemmorhoids(piles)       1.00      1.00      1.00        25\n",
            "                          Drug Reaction       1.00      1.00      1.00        37\n",
            "                       Fungal infection       1.00      1.00      1.00        26\n",
            "                                   GERD       1.00      1.00      1.00        31\n",
            "                        Gastroenteritis       1.00      1.00      1.00        26\n",
            "                           Heart attack       1.00      1.00      1.00        30\n",
            "                            Hepatitis B       1.00      1.00      1.00        31\n",
            "                            Hepatitis C       1.00      1.00      1.00        36\n",
            "                            Hepatitis D       0.41      0.89      0.56        28\n",
            "                            Hepatitis E       1.00      0.20      0.33        45\n",
            "                          Hypertension        1.00      1.00      1.00        23\n",
            "                        Hyperthyroidism       1.00      0.97      0.98        30\n",
            "                           Hypoglycemia       1.00      1.00      1.00        28\n",
            "                         Hypothyroidism       1.00      1.00      1.00        27\n",
            "                               Impetigo       1.00      1.00      1.00        36\n",
            "                               Jaundice       1.00      1.00      1.00        28\n",
            "                                Malaria       1.00      1.00      1.00        32\n",
            "                               Migraine       1.00      1.00      1.00        30\n",
            "                        Osteoarthristis       1.00      1.00      1.00        30\n",
            "           Paralysis (brain hemorrhage)       1.00      1.00      1.00        34\n",
            "                    Peptic ulcer diseae       1.00      1.00      1.00        28\n",
            "                              Pneumonia       0.92      0.90      0.91        39\n",
            "                              Psoriasis       1.00      1.00      1.00        32\n",
            "                           Tuberculosis       1.00      0.15      0.26        33\n",
            "                                Typhoid       0.42      1.00      0.59        22\n",
            "                Urinary tract infection       1.00      1.00      1.00        29\n",
            "                         Varicose veins       1.00      1.00      1.00        30\n",
            "                            hepatitis A       0.92      1.00      0.96        34\n",
            "\n",
            "                               accuracy                           0.94      1230\n",
            "                              macro avg       0.97      0.95      0.94      1230\n",
            "                           weighted avg       0.97      0.94      0.93      1230\n",
            "\n"
          ],
          "name": "stdout"
        }
      ]
    },
    {
      "cell_type": "code",
      "metadata": {
        "id": "YrDCTZFFBVw5",
        "colab_type": "code",
        "colab": {}
      },
      "source": [
        ""
      ],
      "execution_count": 240,
      "outputs": []
    }
  ]
}